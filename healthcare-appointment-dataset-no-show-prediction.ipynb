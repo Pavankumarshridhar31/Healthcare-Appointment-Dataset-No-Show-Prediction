{
 "cells": [
  {
   "cell_type": "markdown",
   "id": "aee0f502",
   "metadata": {
    "papermill": {
     "duration": 0.009469,
     "end_time": "2024-08-27T15:46:47.309035",
     "exception": false,
     "start_time": "2024-08-27T15:46:47.299566",
     "status": "completed"
    },
    "tags": []
   },
   "source": [
    "# **Import Libraries**"
   ]
  },
  {
   "cell_type": "code",
   "execution_count": 1,
   "id": "be28eef5",
   "metadata": {
    "_cell_guid": "b1076dfc-b9ad-4769-8c92-a6c4dae69d19",
    "_uuid": "8f2839f25d086af736a60e9eeb907d3b93b6e0e5",
    "execution": {
     "iopub.execute_input": "2024-08-27T15:46:47.328998Z",
     "iopub.status.busy": "2024-08-27T15:46:47.328487Z",
     "iopub.status.idle": "2024-08-27T15:47:07.013448Z",
     "shell.execute_reply": "2024-08-27T15:47:07.012062Z"
    },
    "papermill": {
     "duration": 19.698572,
     "end_time": "2024-08-27T15:47:07.016966",
     "exception": false,
     "start_time": "2024-08-27T15:46:47.318394",
     "status": "completed"
    },
    "tags": []
   },
   "outputs": [
    {
     "name": "stdout",
     "output_type": "stream",
     "text": [
      "<class 'pandas.core.frame.DataFrame'>\n",
      "RangeIndex: 106987 entries, 0 to 106986\n",
      "Data columns (total 15 columns):\n",
      " #   Column          Non-Null Count   Dtype  \n",
      "---  ------          --------------   -----  \n",
      " 0   PatientId       106987 non-null  float64\n",
      " 1   AppointmentID   106987 non-null  int64  \n",
      " 2   Gender          106987 non-null  object \n",
      " 3   ScheduledDay    106987 non-null  object \n",
      " 4   AppointmentDay  106987 non-null  object \n",
      " 5   Age             106987 non-null  int64  \n",
      " 6   Neighbourhood   106987 non-null  object \n",
      " 7   Scholarship     106987 non-null  bool   \n",
      " 8   Hipertension    106987 non-null  bool   \n",
      " 9   Diabetes        106987 non-null  bool   \n",
      " 10  Alcoholism      106987 non-null  bool   \n",
      " 11  Handcap         106987 non-null  bool   \n",
      " 12  SMS_received    106987 non-null  bool   \n",
      " 13  Showed_up       106987 non-null  bool   \n",
      " 14  Date.diff       106987 non-null  int64  \n",
      "dtypes: bool(7), float64(1), int64(3), object(4)\n",
      "memory usage: 7.2+ MB\n",
      "None\n",
      "          PatientId  AppointmentID            Age      Date.diff\n",
      "count  1.069870e+05   1.069870e+05  106987.000000  106987.000000\n",
      "mean   1.472814e+14   5.675434e+06      38.316085      10.166721\n",
      "std    2.558267e+14   7.133274e+04      22.466214      15.263508\n",
      "min    3.921784e+04   5.030230e+06       1.000000      -6.000000\n",
      "25%    4.173523e+12   5.640490e+06      19.000000       0.000000\n",
      "50%    3.172463e+13   5.680744e+06      38.000000       4.000000\n",
      "75%    9.433600e+13   5.725634e+06      56.000000      14.000000\n",
      "max    9.999816e+14   5.790484e+06     115.000000     179.000000\n",
      "      PatientId  AppointmentID Gender ScheduledDay AppointmentDay  Age  \\\n",
      "0  2.987250e+13        5642903      F   2016-04-29     2016-04-29   62   \n",
      "1  5.589978e+14        5642503      M   2016-04-29     2016-04-29   56   \n",
      "2  4.262962e+12        5642549      F   2016-04-29     2016-04-29   62   \n",
      "3  8.679512e+11        5642828      F   2016-04-29     2016-04-29    8   \n",
      "4  8.841186e+12        5642494      F   2016-04-29     2016-04-29   56   \n",
      "\n",
      "       Neighbourhood  Scholarship  Hipertension  Diabetes  Alcoholism  \\\n",
      "0    JARDIM DA PENHA        False          True     False       False   \n",
      "1    JARDIM DA PENHA        False         False     False       False   \n",
      "2      MATA DA PRAIA        False         False     False       False   \n",
      "3  PONTAL DE CAMBURI        False         False     False       False   \n",
      "4    JARDIM DA PENHA        False          True      True       False   \n",
      "\n",
      "   Handcap  SMS_received  Showed_up  Date.diff  \n",
      "0    False         False       True          0  \n",
      "1    False         False       True          0  \n",
      "2    False         False       True          0  \n",
      "3    False         False       True          0  \n",
      "4    False         False       True          0  \n",
      "PatientId         0\n",
      "AppointmentID     0\n",
      "Gender            0\n",
      "ScheduledDay      0\n",
      "AppointmentDay    0\n",
      "Age               0\n",
      "Neighbourhood     0\n",
      "Scholarship       0\n",
      "Hipertension      0\n",
      "Diabetes          0\n",
      "Alcoholism        0\n",
      "Handcap           0\n",
      "SMS_received      0\n",
      "Showed_up         0\n",
      "Date.diff         0\n",
      "dtype: int64\n"
     ]
    }
   ],
   "source": [
    "import pandas as pd\n",
    "import numpy as np\n",
    "import pandas as pd\n",
    "import numpy as np\n",
    "import seaborn as sns\n",
    "import matplotlib.pyplot as plt\n",
    "from sklearn.model_selection import train_test_split\n",
    "from sklearn.preprocessing import StandardScaler\n",
    "from sklearn.ensemble import RandomForestClassifier\n",
    "from sklearn.metrics import accuracy_score,confusion_matrix\n",
    "from sklearn.model_selection import cross_val_score\n",
    "from sklearn.metrics import classification_report, roc_auc_score, roc_curve\n",
    "from imblearn.over_sampling import SMOTE\n",
    "from imblearn.under_sampling import RandomUnderSampler\n",
    "from imblearn.pipeline import Pipeline\n",
    "from sklearn.linear_model import LogisticRegression\n",
    "from sklearn.ensemble import RandomForestClassifier\n",
    "import tensorflow as tf\n",
    "from tensorflow.keras.models import Sequential\n",
    "from tensorflow.keras.layers import Dense\n",
    "import warnings\n",
    "\n",
    "# Suppress all warnings\n",
    "warnings.filterwarnings('ignore')\n",
    "\n",
    "\n",
    "\n",
    "df=pd.read_csv(\"/kaggle/input/healthcare-appointment-dataset/healthcare_noshows.csv\")\n",
    "print(df.info())\n",
    "print(df.describe())\n",
    "print(df.head(5))\n",
    "print(df.isnull().sum())"
   ]
  },
  {
   "cell_type": "code",
   "execution_count": 2,
   "id": "5fb9302f",
   "metadata": {
    "execution": {
     "iopub.execute_input": "2024-08-27T15:47:07.036685Z",
     "iopub.status.busy": "2024-08-27T15:47:07.036189Z",
     "iopub.status.idle": "2024-08-27T15:47:07.043146Z",
     "shell.execute_reply": "2024-08-27T15:47:07.041796Z"
    },
    "papermill": {
     "duration": 0.020272,
     "end_time": "2024-08-27T15:47:07.046116",
     "exception": false,
     "start_time": "2024-08-27T15:47:07.025844",
     "status": "completed"
    },
    "tags": []
   },
   "outputs": [
    {
     "name": "stdout",
     "output_type": "stream",
     "text": [
      "Index(['PatientId', 'AppointmentID', 'Gender', 'ScheduledDay',\n",
      "       'AppointmentDay', 'Age', 'Neighbourhood', 'Scholarship', 'Hipertension',\n",
      "       'Diabetes', 'Alcoholism', 'Handcap', 'SMS_received', 'Showed_up',\n",
      "       'Date.diff'],\n",
      "      dtype='object')\n"
     ]
    }
   ],
   "source": [
    "print(df.columns)\n"
   ]
  },
  {
   "cell_type": "code",
   "execution_count": 3,
   "id": "5f368457",
   "metadata": {
    "execution": {
     "iopub.execute_input": "2024-08-27T15:47:07.066510Z",
     "iopub.status.busy": "2024-08-27T15:47:07.066017Z",
     "iopub.status.idle": "2024-08-27T15:47:07.339505Z",
     "shell.execute_reply": "2024-08-27T15:47:07.338248Z"
    },
    "papermill": {
     "duration": 0.287393,
     "end_time": "2024-08-27T15:47:07.342418",
     "exception": false,
     "start_time": "2024-08-27T15:47:07.055025",
     "status": "completed"
    },
    "tags": []
   },
   "outputs": [
    {
     "data": {
      "image/png": "[encoded data removed]",
      "text/plain": [
       "<Figure size 640x480 with 1 Axes>"
      ]
     },
     "metadata": {},
     "output_type": "display_data"
    }
   ],
   "source": [
    "# Plot the distribution of the target variable 'Showed_up'\n",
    "sns.countplot(x='Showed_up', data=df)\n",
    "plt.title('Distribution of Showed_up')\n",
    "plt.show()\n"
   ]
  },
  {
   "cell_type": "code",
   "execution_count": 4,
   "id": "2df90d34",
   "metadata": {
    "execution": {
     "iopub.execute_input": "2024-08-27T15:47:07.363457Z",
     "iopub.status.busy": "2024-08-27T15:47:07.362949Z",
     "iopub.status.idle": "2024-08-27T15:47:07.945554Z",
     "shell.execute_reply": "2024-08-27T15:47:07.944226Z"
    },
    "papermill": {
     "duration": 0.596195,
     "end_time": "2024-08-27T15:47:07.948261",
     "exception": false,
     "start_time": "2024-08-27T15:47:07.352066",
     "status": "completed"
    },
    "tags": []
   },
   "outputs": [
    {
     "data": {
      "image/png": "[encoded data removed]",
      "text/plain": [
       "<Figure size 1000x500 with 2 Axes>"
      ]
     },
     "metadata": {},
     "output_type": "display_data"
    }
   ],
   "source": [
    "# Plot distributions of numerical features\n",
    "df[['Age', 'Date.diff']].hist(bins=30, figsize=(10, 5))\n",
    "plt.suptitle('Distribution of Age and Date.diff')\n",
    "plt.show()\n"
   ]
  },
  {
   "cell_type": "markdown",
   "id": "9c604b33",
   "metadata": {
    "papermill": {
     "duration": 0.009535,
     "end_time": "2024-08-27T15:47:07.967848",
     "exception": false,
     "start_time": "2024-08-27T15:47:07.958313",
     "status": "completed"
    },
    "tags": []
   },
   "source": [
    "# **Data cleaning and preprocessing process**"
   ]
  },
  {
   "cell_type": "code",
   "execution_count": 5,
   "id": "fbfbf5f7",
   "metadata": {
    "execution": {
     "iopub.execute_input": "2024-08-27T15:47:07.989633Z",
     "iopub.status.busy": "2024-08-27T15:47:07.989127Z",
     "iopub.status.idle": "2024-08-27T15:47:08.064101Z",
     "shell.execute_reply": "2024-08-27T15:47:08.062951Z"
    },
    "papermill": {
     "duration": 0.089908,
     "end_time": "2024-08-27T15:47:08.067572",
     "exception": false,
     "start_time": "2024-08-27T15:47:07.977664",
     "status": "completed"
    },
    "tags": []
   },
   "outputs": [],
   "source": [
    "\n",
    "# Drop unnecessary columns\n",
    "X = df.drop(columns=['PatientId', 'AppointmentID', 'ScheduledDay', 'AppointmentDay'])\n",
    "\n",
    "# One-Hot Encode categorical columns\n",
    "X = pd.get_dummies(X, columns=['Gender', 'Neighbourhood'], drop_first=True)\n",
    "\n",
    "# Check which columns are numerical\n",
    "numerical_columns = X.select_dtypes(include=['int64', 'float64']).columns\n",
    "\n",
    "# Scale the numerical features\n",
    "scaler = StandardScaler()\n",
    "X[numerical_columns] = scaler.fit_transform(X[numerical_columns])\n",
    "\n"
   ]
  },
  {
   "cell_type": "markdown",
   "id": "c28417d2",
   "metadata": {
    "papermill": {
     "duration": 0.010041,
     "end_time": "2024-08-27T15:47:08.087616",
     "exception": false,
     "start_time": "2024-08-27T15:47:08.077575",
     "status": "completed"
    },
    "tags": []
   },
   "source": [
    "# **Models**"
   ]
  },
  {
   "cell_type": "code",
   "execution_count": 6,
   "id": "e496236b",
   "metadata": {
    "execution": {
     "iopub.execute_input": "2024-08-27T15:47:08.109961Z",
     "iopub.status.busy": "2024-08-27T15:47:08.109481Z",
     "iopub.status.idle": "2024-08-27T15:47:08.146939Z",
     "shell.execute_reply": "2024-08-27T15:47:08.145615Z"
    },
    "papermill": {
     "duration": 0.052326,
     "end_time": "2024-08-27T15:47:08.149981",
     "exception": false,
     "start_time": "2024-08-27T15:47:08.097655",
     "status": "completed"
    },
    "tags": []
   },
   "outputs": [],
   "source": [
    "from sklearn.model_selection import train_test_split\n",
    "\n",
    "#  target variable is 'Showed_up'\n",
    "y = df['Showed_up']\n",
    "X_train, X_test, y_train, y_test = train_test_split(X, y, test_size=0.2, random_state=42)\n"
   ]
  },
  {
   "cell_type": "markdown",
   "id": "8a1b064a",
   "metadata": {
    "papermill": {
     "duration": 0.010508,
     "end_time": "2024-08-27T15:47:08.170896",
     "exception": false,
     "start_time": "2024-08-27T15:47:08.160388",
     "status": "completed"
    },
    "tags": []
   },
   "source": [
    "# **RandomForestClassifier**"
   ]
  },
  {
   "cell_type": "code",
   "execution_count": 7,
   "id": "c74c8f39",
   "metadata": {
    "execution": {
     "iopub.execute_input": "2024-08-27T15:47:08.192620Z",
     "iopub.status.busy": "2024-08-27T15:47:08.192138Z",
     "iopub.status.idle": "2024-08-27T15:47:15.528166Z",
     "shell.execute_reply": "2024-08-27T15:47:15.526828Z"
    },
    "papermill": {
     "duration": 7.350439,
     "end_time": "2024-08-27T15:47:15.531272",
     "exception": false,
     "start_time": "2024-08-27T15:47:08.180833",
     "status": "completed"
    },
    "tags": []
   },
   "outputs": [
    {
     "data": {
      "text/html": [
       "<style>#sk-container-id-1 {color: black;background-color: white;}#sk-container-id-1 pre{padding: 0;}#sk-container-id-1 div.sk-toggleable {background-color: white;}#sk-container-id-1 label.sk-toggleable__label {cursor: pointer;display: block;width: 100%;margin-bottom: 0;padding: 0.3em;box-sizing: border-box;text-align: center;}#sk-container-id-1 label.sk-toggleable__label-arrow:before {content: \"▸\";float: left;margin-right: 0.25em;color: #696969;}#sk-container-id-1 label.sk-toggleable__label-arrow:hover:before {color: black;}#sk-container-id-1 div.sk-estimator:hover label.sk-toggleable__label-arrow:before {color: black;}#sk-container-id-1 div.sk-toggleable__content {max-height: 0;max-width: 0;overflow: hidden;text-align: left;background-color: #f0f8ff;}#sk-container-id-1 div.sk-toggleable__content pre {margin: 0.2em;color: black;border-radius: 0.25em;background-color: #f0f8ff;}#sk-container-id-1 input.sk-toggleable__control:checked~div.sk-toggleable__content {max-height: 200px;max-width: 100%;overflow: auto;}#sk-container-id-1 input.sk-toggleable__control:checked~label.sk-toggleable__label-arrow:before {content: \"▾\";}#sk-container-id-1 div.sk-estimator input.sk-toggleable__control:checked~label.sk-toggleable__label {background-color: #d4ebff;}#sk-container-id-1 div.sk-label input.sk-toggleable__control:checked~label.sk-toggleable__label {background-color: #d4ebff;}#sk-container-id-1 input.sk-hidden--visually {border: 0;clip: rect(1px 1px 1px 1px);clip: rect(1px, 1px, 1px, 1px);height: 1px;margin: -1px;overflow: hidden;padding: 0;position: absolute;width: 1px;}#sk-container-id-1 div.sk-estimator {font-family: monospace;background-color: #f0f8ff;border: 1px dotted black;border-radius: 0.25em;box-sizing: border-box;margin-bottom: 0.5em;}#sk-container-id-1 div.sk-estimator:hover {background-color: #d4ebff;}#sk-container-id-1 div.sk-parallel-item::after {content: \"\";width: 100%;border-bottom: 1px solid gray;flex-grow: 1;}#sk-container-id-1 div.sk-label:hover label.sk-toggleable__label {background-color: #d4ebff;}#sk-container-id-1 div.sk-serial::before {content: \"\";position: absolute;border-left: 1px solid gray;box-sizing: border-box;top: 0;bottom: 0;left: 50%;z-index: 0;}#sk-container-id-1 div.sk-serial {display: flex;flex-direction: column;align-items: center;background-color: white;padding-right: 0.2em;padding-left: 0.2em;position: relative;}#sk-container-id-1 div.sk-item {position: relative;z-index: 1;}#sk-container-id-1 div.sk-parallel {display: flex;align-items: stretch;justify-content: center;background-color: white;position: relative;}#sk-container-id-1 div.sk-item::before, #sk-container-id-1 div.sk-parallel-item::before {content: \"\";position: absolute;border-left: 1px solid gray;box-sizing: border-box;top: 0;bottom: 0;left: 50%;z-index: -1;}#sk-container-id-1 div.sk-parallel-item {display: flex;flex-direction: column;z-index: 1;position: relative;background-color: white;}#sk-container-id-1 div.sk-parallel-item:first-child::after {align-self: flex-end;width: 50%;}#sk-container-id-1 div.sk-parallel-item:last-child::after {align-self: flex-start;width: 50%;}#sk-container-id-1 div.sk-parallel-item:only-child::after {width: 0;}#sk-container-id-1 div.sk-dashed-wrapped {border: 1px dashed gray;margin: 0 0.4em 0.5em 0.4em;box-sizing: border-box;padding-bottom: 0.4em;background-color: white;}#sk-container-id-1 div.sk-label label {font-family: monospace;font-weight: bold;display: inline-block;line-height: 1.2em;}#sk-container-id-1 div.sk-label-container {text-align: center;}#sk-container-id-1 div.sk-container {/* jupyter's `normalize.less` sets `[hidden] { display: none; }` but bootstrap.min.css set `[hidden] { display: none !important; }` so we also need the `!important` here to be able to override the default hidden behavior on the sphinx rendered scikit-learn.org. See: https://github.com/scikit-learn/scikit-learn/issues/21755 */display: inline-block !important;position: relative;}#sk-container-id-1 div.sk-text-repr-fallback {display: none;}</style><div id=\"sk-container-id-1\" class=\"sk-top-container\"><div class=\"sk-text-repr-fallback\"><pre>RandomForestClassifier(random_state=42)</pre><b>In a Jupyter environment, please rerun this cell to show the HTML representation or trust the notebook. <br />On GitHub, the HTML representation is unable to render, please try loading this page with nbviewer.org.</b></div><div class=\"sk-container\" hidden><div class=\"sk-item\"><div class=\"sk-estimator sk-toggleable\"><input class=\"sk-toggleable__control sk-hidden--visually\" id=\"sk-estimator-id-1\" type=\"checkbox\" checked><label for=\"sk-estimator-id-1\" class=\"sk-toggleable__label sk-toggleable__label-arrow\">RandomForestClassifier</label><div class=\"sk-toggleable__content\"><pre>RandomForestClassifier(random_state=42)</pre></div></div></div></div></div>"
      ],
      "text/plain": [
       "RandomForestClassifier(random_state=42)"
      ]
     },
     "execution_count": 7,
     "metadata": {},
     "output_type": "execute_result"
    }
   ],
   "source": [
    "\n",
    "# Initialize the model\n",
    "model = RandomForestClassifier(random_state=42)\n",
    "\n",
    "# Train the model\n",
    "model.fit(X_train, y_train)\n"
   ]
  },
  {
   "cell_type": "code",
   "execution_count": 8,
   "id": "1c9078fa",
   "metadata": {
    "execution": {
     "iopub.execute_input": "2024-08-27T15:47:15.555061Z",
     "iopub.status.busy": "2024-08-27T15:47:15.554587Z",
     "iopub.status.idle": "2024-08-27T15:47:15.901957Z",
     "shell.execute_reply": "2024-08-27T15:47:15.900663Z"
    },
    "papermill": {
     "duration": 0.363183,
     "end_time": "2024-08-27T15:47:15.905384",
     "exception": false,
     "start_time": "2024-08-27T15:47:15.542201",
     "status": "completed"
    },
    "tags": []
   },
   "outputs": [
    {
     "name": "stdout",
     "output_type": "stream",
     "text": [
      "Accuracy: 1.00\n",
      "              precision    recall  f1-score   support\n",
      "\n",
      "       False       1.00      1.00      1.00      4325\n",
      "        True       1.00      1.00      1.00     17073\n",
      "\n",
      "    accuracy                           1.00     21398\n",
      "   macro avg       1.00      1.00      1.00     21398\n",
      "weighted avg       1.00      1.00      1.00     21398\n",
      "\n",
      "[[ 4325     0]\n",
      " [    0 17073]]\n"
     ]
    }
   ],
   "source": [
    "from sklearn.metrics import accuracy_score, classification_report, confusion_matrix\n",
    "\n",
    "# Predict on the test set\n",
    "y_pred = model.predict(X_test)\n",
    "\n",
    "# Evaluate the model\n",
    "accuracy = accuracy_score(y_test, y_pred)\n",
    "print(f\"Accuracy: {accuracy:.2f}\")\n",
    "\n",
    "# More detailed evaluation\n",
    "print(classification_report(y_test, y_pred))\n",
    "print(confusion_matrix(y_test, y_pred))\n"
   ]
  },
  {
   "cell_type": "code",
   "execution_count": 9,
   "id": "42a10af4",
   "metadata": {
    "execution": {
     "iopub.execute_input": "2024-08-27T15:47:15.928338Z",
     "iopub.status.busy": "2024-08-27T15:47:15.927799Z",
     "iopub.status.idle": "2024-08-27T15:47:15.940479Z",
     "shell.execute_reply": "2024-08-27T15:47:15.939315Z"
    },
    "papermill": {
     "duration": 0.027013,
     "end_time": "2024-08-27T15:47:15.943048",
     "exception": false,
     "start_time": "2024-08-27T15:47:15.916035",
     "status": "completed"
    },
    "tags": []
   },
   "outputs": [
    {
     "data": {
      "text/plain": [
       "Showed_up\n",
       "True     85307\n",
       "False    21680\n",
       "Name: count, dtype: int64"
      ]
     },
     "execution_count": 9,
     "metadata": {},
     "output_type": "execute_result"
    }
   ],
   "source": [
    "y.value_counts()\n"
   ]
  },
  {
   "cell_type": "markdown",
   "id": "e80d8a7a",
   "metadata": {
    "papermill": {
     "duration": 0.010357,
     "end_time": "2024-08-27T15:47:15.964452",
     "exception": false,
     "start_time": "2024-08-27T15:47:15.954095",
     "status": "completed"
    },
    "tags": []
   },
   "source": [
    "We will further move with this approach by incorporating metrics such as precision, recall, F1-score, and AUC-ROC to provide a clearer evaluation of model performance due to the class imbalance. Additionally, we will apply resampling techniques to balance the dataset and use stratified cross-validation to maintain class proportions in each fold, ensuring a more reliable assessment."
   ]
  },
  {
   "cell_type": "code",
   "execution_count": 10,
   "id": "7e6d8362",
   "metadata": {
    "execution": {
     "iopub.execute_input": "2024-08-27T15:47:15.987569Z",
     "iopub.status.busy": "2024-08-27T15:47:15.987084Z",
     "iopub.status.idle": "2024-08-27T15:47:16.629125Z",
     "shell.execute_reply": "2024-08-27T15:47:16.627742Z"
    },
    "papermill": {
     "duration": 0.656794,
     "end_time": "2024-08-27T15:47:16.631910",
     "exception": false,
     "start_time": "2024-08-27T15:47:15.975116",
     "status": "completed"
    },
    "tags": []
   },
   "outputs": [
    {
     "name": "stdout",
     "output_type": "stream",
     "text": [
      "              precision    recall  f1-score   support\n",
      "\n",
      "       False       1.00      1.00      1.00      4325\n",
      "        True       1.00      1.00      1.00     17073\n",
      "\n",
      "    accuracy                           1.00     21398\n",
      "   macro avg       1.00      1.00      1.00     21398\n",
      "weighted avg       1.00      1.00      1.00     21398\n",
      "\n",
      "ROC-AUC Score: 1.0\n"
     ]
    }
   ],
   "source": [
    "from sklearn.metrics import classification_report, roc_auc_score, roc_curve\n",
    "\n",
    "y_pred = model.predict(X_test)  # Predict using trained model\n",
    "print(classification_report(y_test, y_pred))\n",
    "\n",
    "# For ROC-AUC score\n",
    "y_pred_proba = model.predict_proba(X_test)[:, 1]  # Probabilities for the positive class\n",
    "print(f\"ROC-AUC Score: {roc_auc_score(y_test, y_pred_proba)}\")\n",
    "\n",
    "# ROC Curve\n",
    "fpr, tpr, thresholds = roc_curve(y_test, y_pred_proba)\n"
   ]
  },
  {
   "cell_type": "code",
   "execution_count": 11,
   "id": "3ce094b5",
   "metadata": {
    "execution": {
     "iopub.execute_input": "2024-08-27T15:47:16.655402Z",
     "iopub.status.busy": "2024-08-27T15:47:16.654942Z",
     "iopub.status.idle": "2024-08-27T15:47:51.803015Z",
     "shell.execute_reply": "2024-08-27T15:47:51.801575Z"
    },
    "papermill": {
     "duration": 35.172759,
     "end_time": "2024-08-27T15:47:51.815342",
     "exception": false,
     "start_time": "2024-08-27T15:47:16.642583",
     "status": "completed"
    },
    "tags": []
   },
   "outputs": [
    {
     "name": "stdout",
     "output_type": "stream",
     "text": [
      "Cross-Validation Scores: [1. 1. 1. 1. 1.]\n",
      "Mean CV Score: 1.0\n"
     ]
    }
   ],
   "source": [
    "\n",
    "scores = cross_val_score(model, X, y, cv=5)\n",
    "print(f\"Cross-Validation Scores: {scores}\")\n",
    "print(f\"Mean CV Score: {scores.mean()}\")\n"
   ]
  },
  {
   "cell_type": "markdown",
   "id": "67643eda",
   "metadata": {
    "papermill": {
     "duration": 0.011888,
     "end_time": "2024-08-27T15:47:51.838961",
     "exception": false,
     "start_time": "2024-08-27T15:47:51.827073",
     "status": "completed"
    },
    "tags": []
   },
   "source": [
    "**SMOTE**"
   ]
  },
  {
   "cell_type": "code",
   "execution_count": 12,
   "id": "538b9d4d",
   "metadata": {
    "execution": {
     "iopub.execute_input": "2024-08-27T15:47:51.864318Z",
     "iopub.status.busy": "2024-08-27T15:47:51.863813Z",
     "iopub.status.idle": "2024-08-27T15:47:53.738220Z",
     "shell.execute_reply": "2024-08-27T15:47:53.736881Z"
    },
    "papermill": {
     "duration": 1.890591,
     "end_time": "2024-08-27T15:47:53.741256",
     "exception": false,
     "start_time": "2024-08-27T15:47:51.850665",
     "status": "completed"
    },
    "tags": []
   },
   "outputs": [],
   "source": [
    "from imblearn.over_sampling import SMOTE\n",
    "\n",
    "# Create an instance of SMOTE\n",
    "smote = SMOTE()\n",
    "\n",
    "# Apply SMOTE to your training data\n",
    "X_resampled, y_resampled = smote.fit_resample(X_train, y_train)\n"
   ]
  },
  {
   "cell_type": "code",
   "execution_count": 13,
   "id": "0cd0f38d",
   "metadata": {
    "execution": {
     "iopub.execute_input": "2024-08-27T15:47:53.768618Z",
     "iopub.status.busy": "2024-08-27T15:47:53.767383Z",
     "iopub.status.idle": "2024-08-27T15:48:07.883262Z",
     "shell.execute_reply": "2024-08-27T15:48:07.881875Z"
    },
    "papermill": {
     "duration": 14.132664,
     "end_time": "2024-08-27T15:48:07.886744",
     "exception": false,
     "start_time": "2024-08-27T15:47:53.754080",
     "status": "completed"
    },
    "tags": []
   },
   "outputs": [
    {
     "data": {
      "text/html": [
       "<style>#sk-container-id-2 {color: black;background-color: white;}#sk-container-id-2 pre{padding: 0;}#sk-container-id-2 div.sk-toggleable {background-color: white;}#sk-container-id-2 label.sk-toggleable__label {cursor: pointer;display: block;width: 100%;margin-bottom: 0;padding: 0.3em;box-sizing: border-box;text-align: center;}#sk-container-id-2 label.sk-toggleable__label-arrow:before {content: \"▸\";float: left;margin-right: 0.25em;color: #696969;}#sk-container-id-2 label.sk-toggleable__label-arrow:hover:before {color: black;}#sk-container-id-2 div.sk-estimator:hover label.sk-toggleable__label-arrow:before {color: black;}#sk-container-id-2 div.sk-toggleable__content {max-height: 0;max-width: 0;overflow: hidden;text-align: left;background-color: #f0f8ff;}#sk-container-id-2 div.sk-toggleable__content pre {margin: 0.2em;color: black;border-radius: 0.25em;background-color: #f0f8ff;}#sk-container-id-2 input.sk-toggleable__control:checked~div.sk-toggleable__content {max-height: 200px;max-width: 100%;overflow: auto;}#sk-container-id-2 input.sk-toggleable__control:checked~label.sk-toggleable__label-arrow:before {content: \"▾\";}#sk-container-id-2 div.sk-estimator input.sk-toggleable__control:checked~label.sk-toggleable__label {background-color: #d4ebff;}#sk-container-id-2 div.sk-label input.sk-toggleable__control:checked~label.sk-toggleable__label {background-color: #d4ebff;}#sk-container-id-2 input.sk-hidden--visually {border: 0;clip: rect(1px 1px 1px 1px);clip: rect(1px, 1px, 1px, 1px);height: 1px;margin: -1px;overflow: hidden;padding: 0;position: absolute;width: 1px;}#sk-container-id-2 div.sk-estimator {font-family: monospace;background-color: #f0f8ff;border: 1px dotted black;border-radius: 0.25em;box-sizing: border-box;margin-bottom: 0.5em;}#sk-container-id-2 div.sk-estimator:hover {background-color: #d4ebff;}#sk-container-id-2 div.sk-parallel-item::after {content: \"\";width: 100%;border-bottom: 1px solid gray;flex-grow: 1;}#sk-container-id-2 div.sk-label:hover label.sk-toggleable__label {background-color: #d4ebff;}#sk-container-id-2 div.sk-serial::before {content: \"\";position: absolute;border-left: 1px solid gray;box-sizing: border-box;top: 0;bottom: 0;left: 50%;z-index: 0;}#sk-container-id-2 div.sk-serial {display: flex;flex-direction: column;align-items: center;background-color: white;padding-right: 0.2em;padding-left: 0.2em;position: relative;}#sk-container-id-2 div.sk-item {position: relative;z-index: 1;}#sk-container-id-2 div.sk-parallel {display: flex;align-items: stretch;justify-content: center;background-color: white;position: relative;}#sk-container-id-2 div.sk-item::before, #sk-container-id-2 div.sk-parallel-item::before {content: \"\";position: absolute;border-left: 1px solid gray;box-sizing: border-box;top: 0;bottom: 0;left: 50%;z-index: -1;}#sk-container-id-2 div.sk-parallel-item {display: flex;flex-direction: column;z-index: 1;position: relative;background-color: white;}#sk-container-id-2 div.sk-parallel-item:first-child::after {align-self: flex-end;width: 50%;}#sk-container-id-2 div.sk-parallel-item:last-child::after {align-self: flex-start;width: 50%;}#sk-container-id-2 div.sk-parallel-item:only-child::after {width: 0;}#sk-container-id-2 div.sk-dashed-wrapped {border: 1px dashed gray;margin: 0 0.4em 0.5em 0.4em;box-sizing: border-box;padding-bottom: 0.4em;background-color: white;}#sk-container-id-2 div.sk-label label {font-family: monospace;font-weight: bold;display: inline-block;line-height: 1.2em;}#sk-container-id-2 div.sk-label-container {text-align: center;}#sk-container-id-2 div.sk-container {/* jupyter's `normalize.less` sets `[hidden] { display: none; }` but bootstrap.min.css set `[hidden] { display: none !important; }` so we also need the `!important` here to be able to override the default hidden behavior on the sphinx rendered scikit-learn.org. See: https://github.com/scikit-learn/scikit-learn/issues/21755 */display: inline-block !important;position: relative;}#sk-container-id-2 div.sk-text-repr-fallback {display: none;}</style><div id=\"sk-container-id-2\" class=\"sk-top-container\"><div class=\"sk-text-repr-fallback\"><pre>RandomForestClassifier()</pre><b>In a Jupyter environment, please rerun this cell to show the HTML representation or trust the notebook. <br />On GitHub, the HTML representation is unable to render, please try loading this page with nbviewer.org.</b></div><div class=\"sk-container\" hidden><div class=\"sk-item\"><div class=\"sk-estimator sk-toggleable\"><input class=\"sk-toggleable__control sk-hidden--visually\" id=\"sk-estimator-id-2\" type=\"checkbox\" checked><label for=\"sk-estimator-id-2\" class=\"sk-toggleable__label sk-toggleable__label-arrow\">RandomForestClassifier</label><div class=\"sk-toggleable__content\"><pre>RandomForestClassifier()</pre></div></div></div></div></div>"
      ],
      "text/plain": [
       "RandomForestClassifier()"
      ]
     },
     "execution_count": 13,
     "metadata": {},
     "output_type": "execute_result"
    }
   ],
   "source": [
    "from sklearn.ensemble import RandomForestClassifier\n",
    "\n",
    "# Initialize and train your model\n",
    "model = RandomForestClassifier()\n",
    "model.fit(X_resampled, y_resampled)\n"
   ]
  },
  {
   "cell_type": "code",
   "execution_count": 14,
   "id": "a5a99545",
   "metadata": {
    "execution": {
     "iopub.execute_input": "2024-08-27T15:48:07.912808Z",
     "iopub.status.busy": "2024-08-27T15:48:07.912373Z",
     "iopub.status.idle": "2024-08-27T15:48:08.559562Z",
     "shell.execute_reply": "2024-08-27T15:48:08.558245Z"
    },
    "papermill": {
     "duration": 0.664336,
     "end_time": "2024-08-27T15:48:08.562962",
     "exception": false,
     "start_time": "2024-08-27T15:48:07.898626",
     "status": "completed"
    },
    "tags": []
   },
   "outputs": [
    {
     "name": "stdout",
     "output_type": "stream",
     "text": [
      "              precision    recall  f1-score   support\n",
      "\n",
      "       False       1.00      1.00      1.00      4325\n",
      "        True       1.00      1.00      1.00     17073\n",
      "\n",
      "    accuracy                           1.00     21398\n",
      "   macro avg       1.00      1.00      1.00     21398\n",
      "weighted avg       1.00      1.00      1.00     21398\n",
      "\n",
      "ROC-AUC Score: 1.0\n"
     ]
    }
   ],
   "source": [
    "\n",
    "# Predict on test data\n",
    "y_pred = model.predict(X_test)\n",
    "\n",
    "# Evaluate performance\n",
    "print(classification_report(y_test, y_pred))\n",
    "print(\"ROC-AUC Score:\", roc_auc_score(y_test, model.predict_proba(X_test)[:, 1]))\n"
   ]
  },
  {
   "cell_type": "code",
   "execution_count": 15,
   "id": "0808d533",
   "metadata": {
    "execution": {
     "iopub.execute_input": "2024-08-27T15:48:08.589277Z",
     "iopub.status.busy": "2024-08-27T15:48:08.588802Z",
     "iopub.status.idle": "2024-08-27T15:48:10.461125Z",
     "shell.execute_reply": "2024-08-27T15:48:10.459128Z"
    },
    "papermill": {
     "duration": 1.889866,
     "end_time": "2024-08-27T15:48:10.464463",
     "exception": false,
     "start_time": "2024-08-27T15:48:08.574597",
     "status": "completed"
    },
    "tags": []
   },
   "outputs": [],
   "source": [
    "from imblearn.under_sampling import RandomUnderSampler\n",
    "from imblearn.pipeline import Pipeline\n",
    "\n",
    "# Create SMOTE and RandomUnderSampler instances\n",
    "smote = SMOTE()\n",
    "undersampler = RandomUnderSampler()\n",
    "\n",
    "# Create a pipeline combining both\n",
    "pipeline = Pipeline([\n",
    "    ('SMOTE', smote),\n",
    "    ('RandomUnderSampler', undersampler)\n",
    "])\n",
    "\n",
    "# Apply the pipeline to your training data\n",
    "X_resampled, y_resampled = pipeline.fit_resample(X_train, y_train)\n"
   ]
  },
  {
   "cell_type": "code",
   "execution_count": 16,
   "id": "5c008cc0",
   "metadata": {
    "execution": {
     "iopub.execute_input": "2024-08-27T15:48:10.490615Z",
     "iopub.status.busy": "2024-08-27T15:48:10.489516Z",
     "iopub.status.idle": "2024-08-27T15:49:02.972563Z",
     "shell.execute_reply": "2024-08-27T15:49:02.971275Z"
    },
    "papermill": {
     "duration": 52.509493,
     "end_time": "2024-08-27T15:49:02.985902",
     "exception": false,
     "start_time": "2024-08-27T15:48:10.476409",
     "status": "completed"
    },
    "tags": []
   },
   "outputs": [
    {
     "name": "stdout",
     "output_type": "stream",
     "text": [
      "Cross-validation scores: [1. 1. 1. 1. 1.]\n",
      "Mean cross-validation score: 1.0\n"
     ]
    }
   ],
   "source": [
    "from sklearn.model_selection import cross_val_score\n",
    "\n",
    "# Perform cross-validation\n",
    "scores = cross_val_score(model, X_resampled, y_resampled, cv=5, scoring='accuracy')\n",
    "print(\"Cross-validation scores:\", scores)\n",
    "print(\"Mean cross-validation score:\", scores.mean())\n"
   ]
  },
  {
   "cell_type": "code",
   "execution_count": 17,
   "id": "594f3d33",
   "metadata": {
    "execution": {
     "iopub.execute_input": "2024-08-27T15:49:03.011170Z",
     "iopub.status.busy": "2024-08-27T15:49:03.010618Z",
     "iopub.status.idle": "2024-08-27T15:49:03.891341Z",
     "shell.execute_reply": "2024-08-27T15:49:03.890045Z"
    },
    "papermill": {
     "duration": 0.89729,
     "end_time": "2024-08-27T15:49:03.894428",
     "exception": false,
     "start_time": "2024-08-27T15:49:02.997138",
     "status": "completed"
    },
    "tags": []
   },
   "outputs": [
    {
     "data": {
      "image/png": "[encoded data removed]",
      "text/plain": [
       "<Figure size 1000x700 with 1 Axes>"
      ]
     },
     "metadata": {},
     "output_type": "display_data"
    }
   ],
   "source": [
    "import matplotlib.pyplot as plt\n",
    "from sklearn.metrics import roc_curve, roc_auc_score\n",
    "\n",
    "#\n",
    "y_prob = model.predict_proba(X_test)[:, 1]\n",
    "\n",
    "# Compute ROC curve data\n",
    "fpr, tpr, thresholds = roc_curve(y_test, y_prob)\n",
    "\n",
    "# Compute AUC score\n",
    "roc_auc = roc_auc_score(y_test, y_prob)\n",
    "\n",
    "# Plot ROC Curve\n",
    "plt.figure(figsize=(10, 7))\n",
    "plt.plot(fpr, tpr, color='darkorange', lw=2, label=f'ROC curve (area = {roc_auc:.2f})')\n",
    "plt.plot([0, 1], [0, 1], color='navy', lw=2, linestyle='--')\n",
    "plt.xlim([0.0, 1.0])\n",
    "plt.ylim([0.0, 1.05])\n",
    "plt.xlabel('False Positive Rate')\n",
    "plt.ylabel('True Positive Rate')\n",
    "plt.title('Receiver Operating Characteristic (ROC) Curve')\n",
    "plt.legend(loc='lower right')\n",
    "plt.grid()\n",
    "plt.show()\n"
   ]
  },
  {
   "cell_type": "markdown",
   "id": "5d027d89",
   "metadata": {
    "papermill": {
     "duration": 0.011985,
     "end_time": "2024-08-27T15:49:03.918751",
     "exception": false,
     "start_time": "2024-08-27T15:49:03.906766",
     "status": "completed"
    },
    "tags": []
   },
   "source": [
    "# FNN"
   ]
  },
  {
   "cell_type": "code",
   "execution_count": 18,
   "id": "02bb7c02",
   "metadata": {
    "execution": {
     "iopub.execute_input": "2024-08-27T15:49:03.944916Z",
     "iopub.status.busy": "2024-08-27T15:49:03.944469Z",
     "iopub.status.idle": "2024-08-27T15:49:31.954117Z",
     "shell.execute_reply": "2024-08-27T15:49:31.952593Z"
    },
    "papermill": {
     "duration": 28.026237,
     "end_time": "2024-08-27T15:49:31.957054",
     "exception": false,
     "start_time": "2024-08-27T15:49:03.930817",
     "status": "completed"
    },
    "tags": []
   },
   "outputs": [
    {
     "name": "stdout",
     "output_type": "stream",
     "text": [
      "Epoch 1/5\n",
      "\u001b[1m2140/2140\u001b[0m \u001b[32m━━━━━━━━━━━━━━━━━━━━\u001b[0m\u001b[37m\u001b[0m \u001b[1m6s\u001b[0m 2ms/step - accuracy: 0.9563 - loss: 0.0972 - val_accuracy: 1.0000 - val_loss: 4.5251e-05\n",
      "Epoch 2/5\n",
      "\u001b[1m2140/2140\u001b[0m \u001b[32m━━━━━━━━━━━━━━━━━━━━\u001b[0m\u001b[37m\u001b[0m \u001b[1m5s\u001b[0m 2ms/step - accuracy: 1.0000 - loss: 2.9047e-05 - val_accuracy: 1.0000 - val_loss: 7.1483e-06\n",
      "Epoch 3/5\n",
      "\u001b[1m2140/2140\u001b[0m \u001b[32m━━━━━━━━━━━━━━━━━━━━\u001b[0m\u001b[37m\u001b[0m \u001b[1m5s\u001b[0m 2ms/step - accuracy: 1.0000 - loss: 5.1347e-06 - val_accuracy: 1.0000 - val_loss: 1.7391e-06\n",
      "Epoch 4/5\n",
      "\u001b[1m2140/2140\u001b[0m \u001b[32m━━━━━━━━━━━━━━━━━━━━\u001b[0m\u001b[37m\u001b[0m \u001b[1m5s\u001b[0m 3ms/step - accuracy: 1.0000 - loss: 1.3030e-06 - val_accuracy: 1.0000 - val_loss: 4.8756e-07\n",
      "Epoch 5/5\n",
      "\u001b[1m2140/2140\u001b[0m \u001b[32m━━━━━━━━━━━━━━━━━━━━\u001b[0m\u001b[37m\u001b[0m \u001b[1m5s\u001b[0m 2ms/step - accuracy: 1.0000 - loss: 3.6613e-07 - val_accuracy: 1.0000 - val_loss: 1.4478e-07\n",
      "\u001b[1m669/669\u001b[0m \u001b[32m━━━━━━━━━━━━━━━━━━━━\u001b[0m\u001b[37m\u001b[0m \u001b[1m1s\u001b[0m 2ms/step - accuracy: 1.0000 - loss: 1.5158e-07\n",
      "Test accuracy: 1.0000\n"
     ]
    }
   ],
   "source": [
    "\n",
    "# Define the model\n",
    "model = Sequential([\n",
    "    Dense(64, activation='relu', input_shape=(X_train.shape[1],)),\n",
    "    Dense(32, activation='relu'),\n",
    "    Dense(1, activation='sigmoid')\n",
    "])\n",
    "\n",
    "# Compile the model\n",
    "model.compile(optimizer='adam', loss='binary_crossentropy', metrics=['accuracy'])\n",
    "\n",
    "# Train the model\n",
    "history = model.fit(X_train, y_train, epochs=5, batch_size=32, validation_split=0.2)\n",
    "\n",
    "# Evaluate the model\n",
    "loss, accuracy = model.evaluate(X_test, y_test)\n",
    "print(f'Test accuracy: {accuracy:.4f}')\n"
   ]
  },
  {
   "cell_type": "code",
   "execution_count": 19,
   "id": "0792a4ea",
   "metadata": {
    "execution": {
     "iopub.execute_input": "2024-08-27T15:49:32.073889Z",
     "iopub.status.busy": "2024-08-27T15:49:32.073405Z",
     "iopub.status.idle": "2024-08-27T15:49:33.630089Z",
     "shell.execute_reply": "2024-08-27T15:49:33.628667Z"
    },
    "papermill": {
     "duration": 1.617814,
     "end_time": "2024-08-27T15:49:33.633184",
     "exception": false,
     "start_time": "2024-08-27T15:49:32.015370",
     "status": "completed"
    },
    "tags": []
   },
   "outputs": [
    {
     "name": "stdout",
     "output_type": "stream",
     "text": [
      "\u001b[1m669/669\u001b[0m \u001b[32m━━━━━━━━━━━━━━━━━━━━\u001b[0m\u001b[37m\u001b[0m \u001b[1m1s\u001b[0m 2ms/step\n",
      "              precision    recall  f1-score   support\n",
      "\n",
      "       False       1.00      1.00      1.00      4325\n",
      "        True       1.00      1.00      1.00     17073\n",
      "\n",
      "    accuracy                           1.00     21398\n",
      "   macro avg       1.00      1.00      1.00     21398\n",
      "weighted avg       1.00      1.00      1.00     21398\n",
      "\n"
     ]
    }
   ],
   "source": [
    "\n",
    "# Predict on the test set\n",
    "y_pred = (model.predict(X_test) > 0.5).astype(\"int32\")\n",
    "\n",
    "# Print classification report\n",
    "print(classification_report(y_test, y_pred))\n"
   ]
  }
 ],
 "metadata": {
  "kaggle": {
   "accelerator": "none",
   "dataSources": [
    {
     "datasetId": 5599982,
     "sourceId": 9256146,
     "sourceType": "datasetVersion"
    }
   ],
   "dockerImageVersionId": 30761,
   "isGpuEnabled": false,
   "isInternetEnabled": true,
   "language": "python",
   "sourceType": "notebook"
  },
  "kernelspec": {
   "display_name": "Python 3",
   "language": "python",
   "name": "python3"
  },
  "language_info": {
   "codemirror_mode": {
    "name": "ipython",
    "version": 3
   },
   "file_extension": ".py",
   "mimetype": "text/x-python",
   "name": "python",
   "nbconvert_exporter": "python",
   "pygments_lexer": "ipython3",
   "version": "3.10.14"
  },
  "papermill": {
   "default_parameters": {},
   "duration": 171.564727,
   "end_time": "2024-08-27T15:49:35.523321",
   "environment_variables": {},
   "exception": null,
   "input_path": "__notebook__.ipynb",
   "output_path": "__notebook__.ipynb",
   "parameters": {},
   "start_time": "2024-08-27T15:46:43.958594",
   "version": "2.6.0"
  }
 },
 "nbformat": 4,
 "nbformat_minor": 5
}
